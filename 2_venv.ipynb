{
 "cells": [
  {
   "attachments": {},
   "cell_type": "markdown",
   "metadata": {},
   "source": [
    "### 1. Before we begin I: Using Python virtual environments in VS Code\n",
    "\n",
    "If you use VSCode, when you open a folder in a location that has a virtual environment, it will automatically activate it for you. If there is no virtual environment yet, you can create\n",
    "one from the terminal (in the current working directory) by running the following command (if on Mac, you will need to use python3 instead of python in your commands): \n",
    "\n",
    "`python -m venv .venv`\n",
    "\n",
    "\n",
    "After this is done, **terminate your existing terminals** (using the bin icon to the right,\n",
    "not using the cross – that will just hide it). Create a new file inside your project directory,\n",
    "e.g. test.py, and open it. This will prompt VSCode to start looking for a version of\n",
    "Python to run this script with, and in the bottom right corner it should eventually show\n",
    "you something like 3.9.x ('.venv': venv) – this means it has found your newly created\n",
    "virtual environment! Now, if you open a new terminal in VSCode, it should activate this\n",
    "new virtual environment for you there (every line should start with (.venv) in a green\n",
    "font). \n",
    "\n",
    "You can use Python inside this activated environment in exactly the same way in\n",
    "which you would use Python or pip normally – except that all actions will use the version\n",
    "of Python and its packages inside your virtual environment. To install a package to your\n",
    "virtual environment, for instance numpy, just use:\n",
    "\n",
    "`pip install numpy` \n",
    "\n",
    "\n",
    "So that looks like this (note the green \"venv\" at the beginning of the line, indicating that we're installing stuff in the virtual environment): \n",
    "\n",
    "![image](.//venv.JPG)\n",
    "\n",
    "Tip: to open a terminal, you can also press Ctrl+Shift+`\n",
    "\n",
    "\n",
    "#### Run the following cell to see if your virtual environment exists, and works: "
   ]
  },
  {
   "cell_type": "code",
   "execution_count": 2,
   "metadata": {},
   "outputs": [
    {
     "name": "stdout",
     "output_type": "stream",
     "text": [
      "Virtual environment detected!\n"
     ]
    }
   ],
   "source": [
    "from helpers import check_venv\n",
    "if check_venv() :\n",
    "    print('Virtual environment detected!')"
   ]
  }
 ],
 "metadata": {
  "kernelspec": {
   "display_name": "base",
   "language": "python",
   "name": "python3"
  },
  "language_info": {
   "codemirror_mode": {
    "name": "ipython",
    "version": 3
   },
   "file_extension": ".py",
   "mimetype": "text/x-python",
   "name": "python",
   "nbconvert_exporter": "python",
   "pygments_lexer": "ipython3",
   "version": "3.9.13"
  },
  "orig_nbformat": 4,
  "vscode": {
   "interpreter": {
    "hash": "ad2bdc8ecc057115af97d19610ffacc2b4e99fae6737bb82f5d7fb13d2f2c186"
   }
  }
 },
 "nbformat": 4,
 "nbformat_minor": 2
}
